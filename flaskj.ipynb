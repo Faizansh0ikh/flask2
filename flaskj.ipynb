{
 "cells": [
  {
   "cell_type": "markdown",
   "id": "adb2ca3f-bae3-4ef2-99d6-98bc85a78a2b",
   "metadata": {},
   "source": [
    "Q1. Explain GET and POST methods."
   ]
  },
  {
   "cell_type": "markdown",
   "id": "e3cd5522-6fce-4015-9a36-ddd64765aa6d",
   "metadata": {},
   "source": [
    "The GET and POST methods are two common HTTP (Hypertext Transfer Protocol) methods used for communication\n",
    "between a client (such as a web browser) and a server.\n",
    "They are used to send data to and receive data from a server, but they have different purposes and characteristics.\n",
    "\n",
    "GET Method:\n",
    "The GET method is primarily used to retrieve data from a server. When a client sends a GET request,\n",
    "it asks the server to send back a specific resource identified by a URL (Uniform Resource Locator).\n",
    "The parameters for the request are typically included in the URL itself as query parameters. \n",
    "\n",
    "POST Method:\n",
    "The POST method is used to submit data to be processed by a server.\n",
    "Unlike GET, the data is not appended to the URL but is included in the body of the HTTP request.\n",
    "POST requests are commonly used when creating, updating,\n",
    "or deleting resources on a server. "
   ]
  },
  {
   "cell_type": "markdown",
   "id": "8817d1eb-0953-4667-9fa9-b7443008c9ae",
   "metadata": {},
   "source": [
    "Q2. Why is request used in Flask?"
   ]
  },
  {
   "cell_type": "markdown",
   "id": "aa64e3c7-e49f-4acb-97e9-26935a0aa64a",
   "metadata": {},
   "source": [
    "In Flask,the \"request\" object is used to access incoming request data and interact with the data submitted by the client."
   ]
  },
  {
   "cell_type": "markdown",
   "id": "f192f3e7-4fa3-4e08-9f41-8b8efd7c17df",
   "metadata": {},
   "source": [
    "Q3. Why is redirect() used in Flask?"
   ]
  },
  {
   "cell_type": "markdown",
   "id": "3785e5d6-2eeb-4778-b8d9-fb1d6f6eba3c",
   "metadata": {},
   "source": [
    "The \"redirect()\" function in Flask is used to redirect the user to a different URL or route."
   ]
  }
 ],
 "metadata": {
  "kernelspec": {
   "display_name": "Python 3 (ipykernel)",
   "language": "python",
   "name": "python3"
  },
  "language_info": {
   "codemirror_mode": {
    "name": "ipython",
    "version": 3
   },
   "file_extension": ".py",
   "mimetype": "text/x-python",
   "name": "python",
   "nbconvert_exporter": "python",
   "pygments_lexer": "ipython3",
   "version": "3.10.8"
  }
 },
 "nbformat": 4,
 "nbformat_minor": 5
}
